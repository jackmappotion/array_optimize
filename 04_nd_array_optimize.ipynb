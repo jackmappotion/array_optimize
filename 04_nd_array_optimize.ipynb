{
 "cells": [
  {
   "cell_type": "code",
   "execution_count": 6,
   "metadata": {},
   "outputs": [],
   "source": [
    "import numpy as np\n",
    "import pandas as pd\n",
    "from itertools import combinations"
   ]
  },
  {
   "cell_type": "code",
   "execution_count": 9,
   "metadata": {},
   "outputs": [],
   "source": [
    "raw_2_df = pd.read_csv(\"./example_2.csv\")"
   ]
  },
  {
   "cell_type": "code",
   "execution_count": 10,
   "metadata": {},
   "outputs": [],
   "source": [
    "def raw2base(raw_df):\n",
    "    df = raw_df.copy()\n",
    "    df[\"stock_code\"] = df[\"stock_code\"].apply(lambda x: str(x).zfill(6))\n",
    "    df.set_index(\"stock_code\", inplace=True)\n",
    "    return df\n",
    "\n",
    "##\n",
    "base_df = raw2base(raw_2_df)"
   ]
  },
  {
   "cell_type": "code",
   "execution_count": 11,
   "metadata": {},
   "outputs": [],
   "source": [
    "def base2main(base_df):\n",
    "    factors = [\"cpbr\", \"tpbr\", \"ctr\", \"npr\", \"opr\"]\n",
    "    target = [\"profit\"]\n",
    "\n",
    "    factor_df = base_df.loc[:, factors]\n",
    "    target_df = base_df.loc[:, target].rename(columns={\"profit\": \"target\"})\n",
    "\n",
    "    main_df = pd.concat([factor_df, target_df], axis=1)\n",
    "    return main_df\n"
   ]
  },
  {
   "cell_type": "code",
   "execution_count": 12,
   "metadata": {},
   "outputs": [],
   "source": [
    "main_df = base2main(base_df)"
   ]
  },
  {
   "cell_type": "code",
   "execution_count": 13,
   "metadata": {},
   "outputs": [],
   "source": [
    "from typing import List\n",
    "import pandas as pd\n",
    "\n",
    "\n",
    "def analyze_factors(df: pd.DataFrame, factors: List[str], target: str, n_d: int, qct_n: int):\n",
    "    qct_factor_df = pd.concat(\n",
    "        [pd.qcut(x=df[col], q=qct_n, labels=False) for col in factors], axis=1\n",
    "    )\n",
    "    qct_df = pd.concat([qct_factor_df, df[target]], axis=1)\n",
    "\n",
    "    factor_combs = list(combinations(factors, n_d))\n",
    "\n",
    "    analysis_list = []\n",
    "    for factor_comb in factor_combs:\n",
    "        tmp = pd.concat(\n",
    "            [\n",
    "                qct_df.groupby(list(factor_comb))[target].mean().rename(\"mean\"),\n",
    "                qct_df.groupby(list(factor_comb))[target].var().rename(\"var\"),\n",
    "                qct_df.groupby(list(factor_comb))[target].size().rename(\"count\"),\n",
    "            ],\n",
    "            axis=1,\n",
    "        )\n",
    "\n",
    "        if n_d > 1:\n",
    "            tmp[\"factor\"] = [\n",
    "                {name: index for name, index in zip(tmp.index.names, idx)} for idx in tmp.index\n",
    "            ]\n",
    "        else:\n",
    "            tmp[\"factor\"] = [{tmp.index.name: idx} for idx in tmp.index]\n",
    "        tmp.reset_index(drop=True, inplace=True)\n",
    "        analysis_list.append(tmp)\n",
    "    analysis = pd.concat(analysis_list, axis=0)\n",
    "    return analysis"
   ]
  },
  {
   "cell_type": "code",
   "execution_count": 14,
   "metadata": {},
   "outputs": [],
   "source": [
    "def get_n_dim_analysis(main_df, factors, q_cut):\n",
    "    analysis_list = list()\n",
    "    for n_dim in range(1, len(factors) + 1):\n",
    "        analysis = analyze_factors(\n",
    "            df=main_df, factors=factors, target=\"target\", n_d=n_dim, qct_n=q_cut\n",
    "        )\n",
    "        analysis[\"n_dim\"] = n_dim\n",
    "        analysis[\"q_cut\"] = q_cut\n",
    "        analysis_list.append(analysis)\n",
    "    total_analysis = pd.concat(analysis_list)\n",
    "    return total_analysis"
   ]
  },
  {
   "cell_type": "code",
   "execution_count": 15,
   "metadata": {},
   "outputs": [],
   "source": [
    "factors = [\"cpbr\", \"tpbr\", \"ctr\", \"npr\", \"opr\"]"
   ]
  },
  {
   "cell_type": "code",
   "execution_count": 16,
   "metadata": {},
   "outputs": [
    {
     "data": {
      "text/html": [
       "<div>\n",
       "<style scoped>\n",
       "    .dataframe tbody tr th:only-of-type {\n",
       "        vertical-align: middle;\n",
       "    }\n",
       "\n",
       "    .dataframe tbody tr th {\n",
       "        vertical-align: top;\n",
       "    }\n",
       "\n",
       "    .dataframe thead th {\n",
       "        text-align: right;\n",
       "    }\n",
       "</style>\n",
       "<table border=\"1\" class=\"dataframe\">\n",
       "  <thead>\n",
       "    <tr style=\"text-align: right;\">\n",
       "      <th></th>\n",
       "      <th>mean</th>\n",
       "      <th>var</th>\n",
       "      <th>count</th>\n",
       "      <th>factor</th>\n",
       "      <th>n_dim</th>\n",
       "      <th>q_cut</th>\n",
       "    </tr>\n",
       "  </thead>\n",
       "  <tbody>\n",
       "    <tr>\n",
       "      <th>0</th>\n",
       "      <td>0.114907</td>\n",
       "      <td>0.069848</td>\n",
       "      <td>334</td>\n",
       "      <td>{'cpbr': 0}</td>\n",
       "      <td>1</td>\n",
       "      <td>5</td>\n",
       "    </tr>\n",
       "    <tr>\n",
       "      <th>1</th>\n",
       "      <td>0.057149</td>\n",
       "      <td>0.064619</td>\n",
       "      <td>333</td>\n",
       "      <td>{'cpbr': 1}</td>\n",
       "      <td>1</td>\n",
       "      <td>5</td>\n",
       "    </tr>\n",
       "    <tr>\n",
       "      <th>2</th>\n",
       "      <td>0.069177</td>\n",
       "      <td>0.052092</td>\n",
       "      <td>333</td>\n",
       "      <td>{'cpbr': 2}</td>\n",
       "      <td>1</td>\n",
       "      <td>5</td>\n",
       "    </tr>\n",
       "    <tr>\n",
       "      <th>3</th>\n",
       "      <td>0.120873</td>\n",
       "      <td>0.092902</td>\n",
       "      <td>333</td>\n",
       "      <td>{'cpbr': 3}</td>\n",
       "      <td>1</td>\n",
       "      <td>5</td>\n",
       "    </tr>\n",
       "    <tr>\n",
       "      <th>4</th>\n",
       "      <td>0.169226</td>\n",
       "      <td>0.046309</td>\n",
       "      <td>334</td>\n",
       "      <td>{'cpbr': 4}</td>\n",
       "      <td>1</td>\n",
       "      <td>5</td>\n",
       "    </tr>\n",
       "    <tr>\n",
       "      <th>...</th>\n",
       "      <td>...</td>\n",
       "      <td>...</td>\n",
       "      <td>...</td>\n",
       "      <td>...</td>\n",
       "      <td>...</td>\n",
       "      <td>...</td>\n",
       "    </tr>\n",
       "    <tr>\n",
       "      <th>89</th>\n",
       "      <td>0.042877</td>\n",
       "      <td>0.057558</td>\n",
       "      <td>63</td>\n",
       "      <td>{'ctr': 4, 'npr': 0, 'opr': 0}</td>\n",
       "      <td>3</td>\n",
       "      <td>5</td>\n",
       "    </tr>\n",
       "    <tr>\n",
       "      <th>112</th>\n",
       "      <td>0.067184</td>\n",
       "      <td>0.047634</td>\n",
       "      <td>78</td>\n",
       "      <td>{'ctr': 4, 'npr': 4, 'opr': 4}</td>\n",
       "      <td>3</td>\n",
       "      <td>5</td>\n",
       "    </tr>\n",
       "    <tr>\n",
       "      <th>76</th>\n",
       "      <td>0.040838</td>\n",
       "      <td>0.082852</td>\n",
       "      <td>68</td>\n",
       "      <td>{'cpbr': 1, 'tpbr': 0, 'npr': 0, 'opr': 0}</td>\n",
       "      <td>4</td>\n",
       "      <td>5</td>\n",
       "    </tr>\n",
       "    <tr>\n",
       "      <th>0</th>\n",
       "      <td>0.042986</td>\n",
       "      <td>0.069225</td>\n",
       "      <td>71</td>\n",
       "      <td>{'cpbr': 0, 'ctr': 0, 'npr': 0, 'opr': 0}</td>\n",
       "      <td>4</td>\n",
       "      <td>5</td>\n",
       "    </tr>\n",
       "    <tr>\n",
       "      <th>6</th>\n",
       "      <td>0.070590</td>\n",
       "      <td>0.037202</td>\n",
       "      <td>60</td>\n",
       "      <td>{'cpbr': 0, 'ctr': 0, 'npr': 1, 'opr': 1}</td>\n",
       "      <td>4</td>\n",
       "      <td>5</td>\n",
       "    </tr>\n",
       "  </tbody>\n",
       "</table>\n",
       "<p>264 rows × 6 columns</p>\n",
       "</div>"
      ],
      "text/plain": [
       "         mean       var  count                                      factor  \\\n",
       "0    0.114907  0.069848    334                                 {'cpbr': 0}   \n",
       "1    0.057149  0.064619    333                                 {'cpbr': 1}   \n",
       "2    0.069177  0.052092    333                                 {'cpbr': 2}   \n",
       "3    0.120873  0.092902    333                                 {'cpbr': 3}   \n",
       "4    0.169226  0.046309    334                                 {'cpbr': 4}   \n",
       "..        ...       ...    ...                                         ...   \n",
       "89   0.042877  0.057558     63              {'ctr': 4, 'npr': 0, 'opr': 0}   \n",
       "112  0.067184  0.047634     78              {'ctr': 4, 'npr': 4, 'opr': 4}   \n",
       "76   0.040838  0.082852     68  {'cpbr': 1, 'tpbr': 0, 'npr': 0, 'opr': 0}   \n",
       "0    0.042986  0.069225     71   {'cpbr': 0, 'ctr': 0, 'npr': 0, 'opr': 0}   \n",
       "6    0.070590  0.037202     60   {'cpbr': 0, 'ctr': 0, 'npr': 1, 'opr': 1}   \n",
       "\n",
       "     n_dim  q_cut  \n",
       "0        1      5  \n",
       "1        1      5  \n",
       "2        1      5  \n",
       "3        1      5  \n",
       "4        1      5  \n",
       "..     ...    ...  \n",
       "89       3      5  \n",
       "112      3      5  \n",
       "76       4      5  \n",
       "0        4      5  \n",
       "6        4      5  \n",
       "\n",
       "[264 rows x 6 columns]"
      ]
     },
     "execution_count": 16,
     "metadata": {},
     "output_type": "execute_result"
    }
   ],
   "source": [
    "total_analysis = get_n_dim_analysis(main_df, factors, 5)\n",
    "main_analysis = total_analysis[(50 <= total_analysis[\"count\"])]\n",
    "main_analysis"
   ]
  },
  {
   "cell_type": "code",
   "execution_count": 17,
   "metadata": {},
   "outputs": [],
   "source": [
    "factors = main_analysis.nlargest(len(main_analysis) // 5, \"mean\")[\"factor\"].tolist()"
   ]
  },
  {
   "cell_type": "code",
   "execution_count": 18,
   "metadata": {},
   "outputs": [],
   "source": [
    "dict2list = lambda _dict: [str(k) + \"_\" + str(v) for k, v in _dict.items()]"
   ]
  },
  {
   "cell_type": "code",
   "execution_count": 19,
   "metadata": {},
   "outputs": [],
   "source": [
    "factors_list=[dict2list(factor) for factor in factors]"
   ]
  },
  {
   "cell_type": "code",
   "execution_count": 20,
   "metadata": {},
   "outputs": [
    {
     "data": {
      "text/plain": [
       "[['ctr_2', 'npr_2', 'opr_2'],\n",
       " ['ctr_2', 'opr_2'],\n",
       " ['ctr_2', 'npr_2'],\n",
       " ['ctr_1', 'opr_2'],\n",
       " ['npr_2', 'opr_2'],\n",
       " ['cpbr_0', 'ctr_0', 'opr_2'],\n",
       " ['ctr_1', 'npr_2'],\n",
       " ['cpbr_0', 'opr_2'],\n",
       " ['ctr_0', 'opr_2'],\n",
       " ['ctr_4', 'npr_2'],\n",
       " ['opr_2'],\n",
       " ['cpbr_0', 'ctr_0', 'opr_3'],\n",
       " ['npr_2'],\n",
       " ['cpbr_0', 'opr_3']]"
      ]
     },
     "execution_count": 20,
     "metadata": {},
     "output_type": "execute_result"
    }
   ],
   "source": [
    "is_tpbr_condition = lambda x: len(set((\"tpbr_4\", \"tpbr_3\", \"tpbr_2\")) & set(x)) == 0\n",
    "is_cpbr_condition = lambda x: len(set((\"cpbr_4\", \"cpbr_3\", \"cpbr_2\")) & set(x)) == 0\n",
    "\n",
    "list(filter(is_cpbr_condition, filter(is_tpbr_condition, factors_list)))"
   ]
  }
 ],
 "metadata": {
  "kernelspec": {
   "display_name": "quant_trading",
   "language": "python",
   "name": "python3"
  },
  "language_info": {
   "codemirror_mode": {
    "name": "ipython",
    "version": 3
   },
   "file_extension": ".py",
   "mimetype": "text/x-python",
   "name": "python",
   "nbconvert_exporter": "python",
   "pygments_lexer": "ipython3",
   "version": "3.10.13"
  }
 },
 "nbformat": 4,
 "nbformat_minor": 2
}
